{
 "cells": [
  {
   "cell_type": "markdown",
   "metadata": {},
   "source": [
    "# UMLS data wrangling from data and knowledge source\n",
    "\n",
    "\n",
    "### Purpose: \n",
    "The purpose of this notebook is to do data wrangling from patient datasource and UMLS knowledge source using numbpy or pandas\n",
    "\n",
    "### Input: \n",
    "Datasource: patient data as a XML file\n",
    "Knowledge source:  UMLS datafiles in RRF format\n",
    "\n",
    "### Output:\n",
    "A csv file which has extracted information from input files including MRN,Medication CUI, Medication Name, Drug Class, Diagnosis, and Mechanism of Action for the drug.\n",
    "\n",
    "### Steps:\n",
    "1. Fist import all the relavant libaries,read input files,check few rows of input files.\n",
    "\n",
    "2. Read  XML file and extract each MRN and corrosponding Medication CUI from each record and store this information into empty dictionary. Append this dictionary to empty list and convert list into dataframe.\n",
    "\n",
    "3. Convert MMREL file to dataframe and merge this dataframe to dataframe created in step 2 on Medication CUI and generate merged dataframe.\n",
    "\n",
    "4. Convert MRCONSO file dataframe and merge this dataframe to dataframe created in step 2 on Medication CUI and generate merged dataframe..\n",
    "\n",
    "5. Filter the dataframe created on step 3 to create dataframe for drug class, mechanism of action and diagnosis.\n",
    "\n",
    "6. Extract information for drug class, diagnosis, and mechanism of action using corropsponding drug concept identifier from MRCONSO file and store it in dataframes\n",
    "\n",
    "7. Merge the generated dataframe from step3 and step 6 and export output to csv file format."
   ]
  },
  {
   "cell_type": "markdown",
   "metadata": {},
   "source": [
    "## 1. Loading list of documents and read XML,MRREL, MRCONSO files"
   ]
  },
  {
   "cell_type": "code",
   "execution_count": null,
   "metadata": {},
   "outputs": [],
   "source": [
    "#Import relevant dependancies\n",
    "import os\n",
    "import csv\n",
    "import pandas as pd\n",
    "import numpy as np\n",
    "import xml.etree.ElementTree as ET\n",
    "\n",
    "#File path\n",
    "dataset_path=\"/med/dataset.xml\"\n",
    "mrconso_path=\"/med/MRCONSO.RRF\"\n",
    "mrrel_path= \"/med/MRREL.RRF\"\n",
    "\n",
    "# Read MRREL file using pandas script and check the data\n",
    "dataframe_mmrel=pd.read_csv(mrrel_path,header=None,sep=\"|\")\n",
    "\n",
    "# Read MRCONSO file using pandas script and check the data\n",
    "dataframe_mrconso=pd.read_csv(mrconso_path,header=None,sep=\"|\")\n",
    "\n",
    "#Read XML file check the data\n",
    "tree=ET.parse(\"/med/dataset.xml\")\n",
    "root=tree.getroot()"
   ]
  },
  {
   "cell_type": "markdown",
   "metadata": {},
   "source": [
    "## 2. Parse patient MRN and Medication CUI from XML file\n",
    "\n",
    "We are going to parse the XML file and extract MRN and Medication information and convert it inot dataframe."
   ]
  },
  {
   "cell_type": "code",
   "execution_count": null,
   "metadata": {},
   "outputs": [],
   "source": [
    "#Create global variable.\n",
    "med_list=[]                                     #Create empty  list to hold MRN and medication name\n",
    "\n",
    "#Iteration thorugh all the nodes of tree using nested for loop\n",
    "for child in root:\n",
    "    for subchild in child:\n",
    "        for stepchild in subchild:\n",
    "            med_dict=dict()                      #Create empty dictinary to store MRN and medication as key-value pairs\n",
    "            if stepchild.tag==\"MRN\":\n",
    "                mrn_value=stepchild.attrib.get(\"value\")\n",
    "                med_dict[\"MRN\"]=mrn_value\n",
    "                #d.append(c)\n",
    "            if stepchild.tag==\"Item\":\n",
    "                med_value=stepchild.attrib.get(\"value\")\n",
    "                med_dict[\"Medication_CUI\"]=med_value\n",
    "                med_dict[\"MRN\"]=mrn_value\n",
    "                med_list.append(med_dict)  \n",
    "#Create a dataframe from list\n",
    "mrnmed=pd.DataFrame(med_list)"
   ]
  },
  {
   "cell_type": "markdown",
   "metadata": {},
   "source": [
    "##  3. Parse relavant data from MRCONSO.RRF file \n",
    "\n",
    "We are going to parse the MRCONSO file convert to dataframe. This newly generated dataframe will be use later to extract drug class, diagnosis, and mechanism of action information from it."
   ]
  },
  {
   "cell_type": "code",
   "execution_count": null,
   "metadata": {},
   "outputs": [],
   "source": [
    "#Slice the relavant column from MRCONSOfile\n",
    "mrconso_df=dataframe_mrconso.loc[:,[0,14]]\n",
    "\n",
    "#Rename the column name\n",
    "mrconso_df=mrconso_df.rename(index=str,columns={0:\"Medication_CUI\",14:\"Medication_Name\"})\n",
    "\n",
    "#Merge mrn_med and mrconso_df on Medication_CUI\n",
    "mrnmed_mrconso=pd.merge(mrnmed,mrconso_df, on=[\"Medication_CUI\"],how=\"left\",left_index=True)\n",
    "mrnmed_mrconso.reset_index(drop=True,inplace=True)"
   ]
  },
  {
   "cell_type": "markdown",
   "metadata": {},
   "source": [
    "##  4. Parse relavant data from MRREL.RRF file \n",
    "\n",
    "We are going to parse the MRREL file and extract CUI1, CUI2, Relationship(REL), and Additonal relation (RELA) for drug. This newly generated dataframe will be use later to parse drug class, diagnosis, and mechanism of action from it."
   ]
  },
  {
   "cell_type": "code",
   "execution_count": null,
   "metadata": {},
   "outputs": [],
   "source": [
    "#Slice the relavant column from MRREL file\n",
    "mmrel_df=dataframe_mmrel.loc[:,[0,3,4,7]]\n",
    "\n",
    "#Rename the column name\n",
    "mmrel_df=mmrel_df.rename(index=str,columns={0:\"Medication_CUI\", 3:\"REL\", 4:\"CUI2\", 7:\"RELA\"})\n",
    "#Merge dataframe\n",
    "mrnmed_mmrel=pd.merge(mrnmed,mmrel_df, on=[\"Medication_CUI\"],how=\"inner\")"
   ]
  },
  {
   "cell_type": "markdown",
   "metadata": {},
   "source": [
    "## 5. Create dataframe for Drug class, Diagnosis, Mechanism of Action\n",
    "\n",
    "We are going create dataframe for drug class, diagnosis, and mechanism of action using relavant term from MRREL file "
   ]
  },
  {
   "cell_type": "code",
   "execution_count": null,
   "metadata": {},
   "outputs": [],
   "source": [
    "#Create dataframe for Diagnosis\n",
    "diagnosis_df=mrnmed_mmrel.loc[(mrnmed_mmrel[\"RELA\"]==\"may_be_treated_by\")]\n",
    "diagnosis_df.reset_index(drop=True,inplace=True)\n",
    "\n",
    "#Create dataframe for Mechanism of action\n",
    "mechanism_df=mrnmed_mmrel.loc[(mrnmed_mmrel[\"RELA\"]==\"mechanism_of_action_of\")]\n",
    "mechanism_df.set_index([\"MRN\"],inplace=True,drop=True)\n",
    "mechanism_df.reset_index(inplace=True,drop=False)\n",
    "\n",
    "#Create dataframe for drug class by using MRREL relationship term\n",
    "drug_df=mrnmed_mmrel.loc[(mrnmed_mmrel[\"REL\"]==\"CHD\")|(mrnmed_mmrel[\"REL\"]==\"member_of\")|(mrnmed_mmrel[\"REL\"]==\"PAR\")|(mrnmed_mmrel[\"RELA\"]==\"isa\")\n",
    "                     |(mrnmed_mmrel[\"RELA\"]==\"inverse_isa\")]"
   ]
  },
  {
   "cell_type": "markdown",
   "metadata": {},
   "source": [
    "## 6. Extract information from MRCONSO for drug class, diagnosis, and mechanism of action\n"
   ]
  },
  {
   "cell_type": "code",
   "execution_count": null,
   "metadata": {},
   "outputs": [],
   "source": [
    "#Extract the information from MRCONSO file using the CUI value corroponding ConceptID for diagnosis\n",
    "diagnosis_mrconso=pd.merge(diagnosis_df, mrconso_df,left_on=\"CUI2\",right_on=\"Medication_CUI\",left_index=True)\n",
    "diagnosis_mrconso.reset_index(drop=True,inplace=True)\n",
    "diagnosis_mrconso=diagnosis_mrconso.drop([\"REL\",\"CUI2\",\"RELA\",\"Medication_CUI_y\"],axis=1)\n",
    "diagnosis_mrconso=diagnosis_mrconso.rename(index=str, columns={\"Medication_CUI_x\":\"Medication_CUI\",\n",
    "                                                                \"Medication_Name\":\"Medication_Diagnosis\"})\n",
    "\n",
    "#Extract the information from MRCONSO file using the CUI1 value corroponding ConceptID for mechanism of action\n",
    "mechanism_mrconso=pd.merge(mechanism_df,mrconso_df,left_on=\"CUI2\",right_on=\"Medication_CUI\",left_index=True,how=\"inner\")\n",
    "mechanism_mrconso.reset_index(drop=True,inplace=True)\n",
    "mechanism_mrconso=mechanism_mrconso.drop([\"REL\",\"CUI2\",\"RELA\",\"Medication_CUI_y\"],axis=1)\n",
    "\n",
    "mechanism_mrconso=mechanism_mrconso.rename(index=str, columns={\"Medication_CUI_x\":\"Medication_CUI\",\n",
    "                                                              \"Medication_Name\":\"Medication_Mechanism_of_Action\"})\n",
    "\n",
    "#Extract the information from MRCONSO file using the CUI1 value corroponding ConceptID for drugclass\n",
    "drug_mrconso=pd.merge(drug_df,mrconso_df,left_on=\"CUI2\",right_on=\"Medication_CUI\",left_index=True)\n",
    "drug_mrconso.reset_index(drop=True,inplace=True)\n",
    "drug_mrconso=drug_mrconso.drop([\"REL\",\"CUI2\",\"RELA\",\"Medication_CUI_y\"],axis=1)\n",
    "drug_mrconso=drug_mrconso.rename(index=str, columns={\"Medication_CUI_x\":\"Medication_CUI\",\n",
    "                                                              \"Medication_Name\":\"Medication_class\"})"
   ]
  },
  {
   "cell_type": "markdown",
   "metadata": {},
   "source": [
    "## 7. Merge the extracted dataframes from MRREL and MRCONSO file for drugclass, diagnosis and mechanism of action and export output to csv file"
   ]
  },
  {
   "cell_type": "code",
   "execution_count": null,
   "metadata": {},
   "outputs": [],
   "source": [
    "#Merge first MRN-Medication CUI and Drug class dataframe\n",
    "df_1=pd.merge(mrnmed_mrconso,drug_mrconso)\n",
    "\n",
    "#Merge Mechanism of action and Diagnsosis dataframe\n",
    "df_2=pd.merge(mechanism_mrconso,diagnosis_mrconso)\n",
    "\n",
    "#Merge df_1 and df_1\n",
    "final_df=pd.merge(df_1,df_2,how=\"inner\")\n",
    "\n",
    "#Drop duplicates\n",
    "final_output=final_df.drop_duplicates(subset=['MRN',\"Medication_CUI\",\"Medication_Name\",\"Medication_class\"])\n",
    "final_output.reset_index(drop=True,inplace=True)\n",
    "\n",
    "#Print final output to check data\n",
    "print(final_output.head(2))\n",
    "\n",
    "#export dataframe to csv formate\n",
    "final_csv=final_output.to_csv(\"output_cp2.csv\", encoding='utf-8',index=False)"
   ]
  }
 ],
 "metadata": {
  "kernelspec": {
   "display_name": "Python 3 (ipykernel)",
   "language": "python",
   "name": "python3"
  },
  "language_info": {
   "codemirror_mode": {
    "name": "ipython",
    "version": 3
   },
   "file_extension": ".py",
   "mimetype": "text/x-python",
   "name": "python",
   "nbconvert_exporter": "python",
   "pygments_lexer": "ipython3",
   "version": "3.7.15"
  }
 },
 "nbformat": 4,
 "nbformat_minor": 2
}
